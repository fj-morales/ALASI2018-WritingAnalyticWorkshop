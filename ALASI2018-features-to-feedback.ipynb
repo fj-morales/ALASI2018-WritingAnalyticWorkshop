{
 "cells": [
  {
   "cell_type": "markdown",
   "metadata": {},
   "source": [
    "## ALASI 2018 Workshop: From features to feedback: Designing automated feedback for student writing \n",
    "\n",
    "#### Organisers: Ming Liu, Simon Knight, Shibani Antonette and Sophie Abel\n",
    "\n",
    "### Workshop Objectives\n",
    "\n",
    "This workshop aims to build writing analytics capacity through developing writing analytics literacy both at this event and beyond. Workshop activities will have two foci: the technical, and the social, both targeted at provision of feedback that supports student writing. The workshop will engage participants with the Text Analytics Pipeline (TAP), and AcaWriter API to demonstrate the mapping of textual features output to rules that can be used to provide feedback to students.\n",
    "\n",
    "The workshop will take a participatory approach, blending workshop, tutorial, and hackathon to consider the potential of text analytics tools for supporting writing, and how through use of openly available tools and a data carpentry approach, novices to text analytics – including educators, learning technologists, and others – can be inducted into its potential. Our focus today will be on providing relevant automated feedback on different samples of student writing. The entire session will be hands-on, interacting with a text analytics system via this Jupyter notebook. \n",
    "\n",
    "---\n",
    "\n",
    "### Technical Setup\n",
    "\n",
    "The workshop will run using this Jupyter notebook. The [Jupyter Notebook](http://jupyter.org/) is an open-source web application that allows you to create and share documents that contain live code, equations, visualizations and narrative text. It can support many languages and the current notebook runs in Python. You will all work with your own notebooks (using the login IDs provided by us), so you can hack and play around with code and data. The notebook contain different segments for code, and text. The current segment is a Markdown in which we are providing a narrative text. We will have code segments where we will execute Python code to do some text analysis using TAP.  \n",
    "\n",
    "---\n",
    "\n",
    "\n",
    "### The Writing Analytics Process\n",
    "\n",
    "Using some basic writing analytics, *this notebook demonstrates the process through which pedagogy and analytics come together* in order to provide formative feedback to students on their writing.\n",
    "\n",
    "The key elements of the process are:\n",
    "\n",
    "- A clearly defined learning task\n",
    "- An understanding of the students response to the task (the writing)\n",
    "- One or more hypotheses on how aspects of the learning task may be related to computationally identifiable features in the student writing\n",
    "\n",
    "Throughout the process, the aim is to balance what is possible with the technology (i.e. Natural Language Processing - NLP) with what is valuable in terms of student learning. This is illustrated in the following diagram:\n",
    "\n",
    "<img src=\"WAlayers.png\" style=\"width: 60%;\"/>\n",
    "\n",
    "\n"
   ]
  },
  {
   "cell_type": "markdown",
   "metadata": {},
   "source": [
    "---\n",
    "\n",
    "### Writing Task Definition\n",
    "\n",
    "**Aims:** This assessment aims to develop your skills in building an argument and providing evidence to support your claims.\n",
    "\n",
    "**Task:** You will write an argumentative essay on the ethical issues arising from our treatment of animals. You will consider what rights animals should be granted and what ethical implications arise between differentiating people from animals. Your discussion should include philosophical thinking on animal ethics.\n",
    "\n",
    "In this assignment, you will: \n",
    "*\tIdentify an ethical issue \n",
    "*\tLocate 4 recent articles relevant to the issue of a sufficiently high quality to support an academic discussion \n",
    "* Link your discussion to 2 philosophers from this list: Darwin, Tom Regan, Immanuel Kant, René Descartes, Thomas Aquinas, Aristotle, Peter Carruthers, Joel Feinberg, Raymond Frey, Jeremy Bentham, Peter Singer\n",
    "\n",
    "\n",
    "**Assessment:** The criteria on which your essay will be assessed is:\n",
    "\n",
    "\n",
    "|             Assessment Criteria           |\n",
    "| -------------        | ------------------ |\n",
    "| **Structure**        | *Clear introduction (Background, Thesis statement, discussion topics)* |\n",
    "|                      | *Selection of appropriate texts* |\n",
    "|                      | *Clear synthesis of main points* |\n",
    "|                      | *Organization of content supports argument* |\n",
    "|                      | *Suitable conclusion* |\n",
    "|**Written Expression**| *Academic writing style (third person)*  |\n",
    "|                      | *Correct English grammar, spelling and punctuation* |\n",
    "|                      | *Limit of 350 words* |\n",
    "| **Referencing**      | *Correct Harvard citation in text*     |\n",
    "|                      | *Correct Harvard reference list* |\n"
   ]
  },
  {
   "cell_type": "markdown",
   "metadata": {},
   "source": [
    "---\n",
    "\n",
    "### Student Response to Task\n",
    "\n",
    "For the above writing task, consider that a student submits an essay to receive formative feedback. We start the analytics process by loading the student writing ready for analysis.\n",
    "\n",
    "Disclaimer: The text is sourced from USE = Uppsala Student English corpus, compiled by Margareta Westergren Axelsson and Ylva Berglund, the Department of English, Uppsala University, 1999-2001, and modified for our own use. Text ID: 0100.a2\n"
   ]
  },
  {
   "cell_type": "code",
   "execution_count": null,
   "metadata": {},
   "outputs": [],
   "source": [
    "#Open the file and read it into a variable 'text'\n",
    "file = open(\"SampleText.txt\")\n",
    "rawtext = file.read()\n",
    "file.close()\n",
    "print(rawtext)\n",
    "\n",
    "#Split the document by newlines to give us paragraphs\n",
    "doc = rawtext.split(\"\\n\")"
   ]
  },
  {
   "cell_type": "markdown",
   "metadata": {},
   "source": [
    "However, this is not very human friendly output. A better display might be to use the HTML of the browser. To do this, we need to load some additional python libraries."
   ]
  },
  {
   "cell_type": "code",
   "execution_count": null,
   "metadata": {},
   "outputs": [],
   "source": [
    "#Libraries contain functions that we can use to perform complex tasks without rewriting many lines of code\n",
    "from IPython.core.display import display, HTML  # Allows us to create annotated text using HTML and CSS\n",
    "\n",
    "#A function to wrap text in a paragraph tag\n",
    "def pTag(text):\n",
    "    return \"<p>\"+text+\"</p>\"\n",
    "\n",
    "#Wrap each paragraph of the doc for HTML display\n",
    "paras = map(pTag,doc)\n",
    "htmlDoc = HTML(''.join(paras))\n",
    "\n",
    "display(htmlDoc)"
   ]
  },
  {
   "cell_type": "markdown",
   "metadata": {},
   "source": [
    "> ** DISCUSSION **\n",
    ">\n",
    ">  - What types of feedback can we give to improve this essay? \n",
    ">  - Can we try to automate this feedback (on certain criteria) using textual features?"
   ]
  },
  {
   "cell_type": "markdown",
   "metadata": {},
   "source": [
    "---\n",
    "\n",
    "### Langage features in the writing\n",
    "\n",
    "Let's now identify language features to provide useful feedback on the given essay. This is a ground-up approach where we first look at the pedagogial context to identify the scope of automated feedback and then bring in the analytics where it fits in.\n",
    "\n",
    "Some example features that we can use to provide feedback in this context are below:\n",
    "* Structural Metrics (sentence, word level)\n",
    "* Vocabulary\n",
    "* Mechanics (spelling, grammar)\n",
    "* Rhetorical structures\n",
    "* Referencing formats\n",
    "\n"
   ]
  },
  {
   "cell_type": "markdown",
   "metadata": {},
   "source": [
    "---\n",
    "\n",
    "### Formulating and refining hypotheses\n",
    "\n",
    "**Writing Anaytics involves formulating hypothesis around how computation and pedagogy might connect in a way that provides practical learning benefits for the student.**\n",
    "\n",
    "Each hypothesis should specific and testable. That is, the practical results of it working should be clearly identifiable. They are not lofty ideals or goals - if they test true then there should be real practical learning benefits for the student. \n",
    "\n",
    "In this example, we will focus on how simple features in the text may be computationally identifiable and turned into formative feedback for the student. We make use of our context knowledge, theory and text observations to formulate and refine these hypothesis. \n",
    "\n",
    "\n",
    "Example hypotheses: \n",
    "1. Feedback on referencing requirements of the task could be generated from the presence of names in the text.\n",
    "2. Feedback on structure based on the presence of rhetorical moves.\n",
    "3. Feedback on the readability could be created from the detection of long sentences.\n",
    "4. Feedback on writing as third person could be generated from the idenfication of first person pronouns. \n",
    "5. Feedback on wordiness could be based on the presence of too many adjectives.\n",
    " \n",
    "In this workshop, we are going to focus on the first two of these. We demonstrate how formative feedback for the student can be implemeneted based on the hypothesis. The other examples can be found in the Jupyter notebook at https://github.com/AntonetteShibani/Jupyter-Notebooks. \n",
    "\n",
    "\n",
    "For each hypothesis, code is written to analyse the text and create formative feedback for the student based on the analytics. In a complete scenario, the students reaction to this feedback would be analysed providing an evaluation of the hypothesis. On the basis of this evaluation, the hypothesis could be refined, or other aspects of the process could be adjusted to improve the practical outcomes for the student."
   ]
  },
  {
   "cell_type": "markdown",
   "metadata": {},
   "source": [
    "---\n",
    "### Text Analytics Pipeline (TAP)\n",
    "\n",
    "[Text Analytics Pipeline (TAP)](https://github.com/heta-io/tap) is an open-source API that provides analytics about the text. It has a [graphql endpoint](http://tap-dev.utscic.edu.au/graphiql) which provides a user interface to test user queries based on the given input and view its corresponding outputs. To make use of text analytics from TAP, calls to the API can be made in the form of query requests, as demonstrated in this notebook.  \n",
    "\n",
    "---"
   ]
  },
  {
   "cell_type": "markdown",
   "metadata": {},
   "source": [
    "\n",
    "## Implementation\n",
    "\n",
    "We will make use of the open-source API called [Text Analytics Pipeline (TAP)](https://github.com/uts-cic/tap) to receive analytics about the text. To use TAP's analytics capability, we need to query the TAP graphql endpoint with the text that we want analysed. To do this, we need to construct the ```query``` , and a ```request header``` to tell TAP about the data format. Requesting for and receiving analytics from TAP consists of the following steps:"
   ]
  },
  {
   "cell_type": "markdown",
   "metadata": {},
   "source": [
    "**[1]** Write a function to get json data from TAP based on a given query"
   ]
  },
  {
   "cell_type": "code",
   "execution_count": null,
   "metadata": {},
   "outputs": [],
   "source": [
    "import json                                 # We need to be able to work whith JSON\n",
    "from urllib import request, response        # To create requests to TAP and handle responses from TAP\n",
    "import string                               # To help with cleaning text and visualising analytics\n",
    "\n",
    "def getJsonFromTAP(query,text,url):\n",
    "    variables = {'input': text}\n",
    "    escapedQuery = query.replace(\"\\n\", \"\\\\n\") #query.encode('utf8').decode('unicode_escape')\n",
    "    fullQuery = json.dumps({'query': escapedQuery, 'variables': variables})\n",
    "    jsonHeader = {'Content-Type':'application/json'}\n",
    "    tapReq = request.Request(url, data = fullQuery.encode('utf8'), headers = jsonHeader)\n",
    "    tapResponse = \"\"\n",
    "    try:\n",
    "        tapResponse = request.urlopen(tapReq)\n",
    "        body = tapResponse.read().decode('utf8')           \n",
    "        return json.loads(body)\n",
    "    except Exception as e:\n",
    "        print(e)\n",
    "        return json.dumps({})\n",
    "    "
   ]
  },
  {
   "cell_type": "markdown",
   "metadata": {},
   "source": [
    "**[2]** Create the query and get analytics from TAP"
   ]
  },
  {
   "cell_type": "code",
   "execution_count": null,
   "metadata": {},
   "outputs": [],
   "source": [
    "# A Query for sentence level metrics query for TAP with given text\n",
    "metricsQuery = \"query Metrics($input: String!){ metrics(text: $input) { analytics {words, sentences, sentWordCounts, averageSentWordCount } } }\"\n",
    "\n",
    "tapUrl = \"http://tap-dev.utscic.edu.au/\"   # TAP URL\n",
    "endpoint = \"graphql\"                        # The query endpoint on TAP\n",
    "completeUrl = tapUrl + endpoint             # The complete url that the request is posted to\n",
    "\n",
    "# Send the query to TAP along with the text to be analysed\n",
    "jsonData = getJsonFromTAP(metricsQuery,rawtext,completeUrl)\n",
    "\n",
    "print(\"Output json object from TAP:\\n\")\n",
    "print(jsonData)"
   ]
  },
  {
   "cell_type": "markdown",
   "metadata": {},
   "source": [
    "For student facing feedback, we need to consider what may be helpful to the student.\n"
   ]
  },
  {
   "cell_type": "markdown",
   "metadata": {},
   "source": [
    "---\n",
    "\n",
    "### Hypothesis 1 - feedback on referring to sources\n",
    "\n",
    "This hypothesis is based around linking the identification of Named Entities (People, Organisations, Locations, Dates) to the requirement in the learning task to refer to at least 2 philosophers in a given list. By extracting names, we should be able to check this requirement."
   ]
  },
  {
   "cell_type": "code",
   "execution_count": null,
   "metadata": {
    "scrolled": true
   },
   "outputs": [],
   "source": [
    "#Extracting named entities from the input text using NER\n",
    "\n",
    "# function to extract the tags\n",
    "def getPosNer(json):\n",
    "    return(json.get('term'),json.get('nertag'),json.get('postag'))\n",
    "    \n",
    "# function to get a list of tokens from a sentence\n",
    "def getTokens(json):\n",
    "    tokens = json.get('tokens')\n",
    "    return list(map(getPosNer,tokens))\n",
    "\n",
    "# the main function that initiates the TAP query and extracts the results\n",
    "def getTags(para):\n",
    "    #query = \"query TokeniseWithNer($input: String!){  annotations(text:$input,pipetype:\\\"ner\\\") { analytics {tokens {term,postag, nertag} } }}\"\n",
    "\n",
    "    query = \"query TokeniseWithNer($input: String){  annotations(text:$input,parameters:\\\"{\\\\\\\"pipeType\\\\\\\":\\\\\\\"clu\\\\\\\"}\\\") { analytics {tokens {term,postag, nertag} } }}\"\n",
    "    jsonData = getJsonFromTAP(query,para,completeUrl)\n",
    "    annotationsJson = jsonData.get('data').get('annotations').get('analytics') #.get('original')\n",
    "    return list(map(getTokens,annotationsJson))\n",
    "\n",
    "# function to turn a nested list into a list of strings\n",
    "def flatten(nestList):\n",
    "    newList = []\n",
    "    for lst in nestList:\n",
    "        for tups in lst:\n",
    "            newList = newList + tups\n",
    "    return newList\n",
    "\n",
    "# a filter for named entities\n",
    "def isNE(tagTuple):\n",
    "    return tagTuple[1] != 'O'\n",
    "\n",
    "# extract terms from the tuple\n",
    "def getTerms(tagTuple):\n",
    "    return tagTuple[0]\n",
    "\n",
    "\n",
    "# put all of the above functions together...\n",
    "\n",
    "# get the tags\n",
    "tags = flatten(map(getTags,doc))\n",
    "print(tags)\n",
    "\n",
    "# get the named entities\n",
    "names = list(map(getTerms,filter(isNE,tags)))\n",
    "print(names)"
   ]
  },
  {
   "cell_type": "markdown",
   "metadata": {},
   "source": [
    "The named entities found in the student's text need to be cross checked with those required by the task. For the purposes of this example, the task names are manually entered into the `definednames` list."
   ]
  },
  {
   "cell_type": "code",
   "execution_count": null,
   "metadata": {},
   "outputs": [],
   "source": [
    "definednames = ['Darwin','Regan', 'Kant', 'Descartes', 'Aquinas', 'Aristotle', 'Feinberg', 'Frey', 'Bentham', 'Singer']\n",
    "\n",
    "#Find the list of names also present in our defined list of authors\n",
    "included = list(set(definednames).intersection(set(names)))\n",
    "print(\"Included philosophers: \",included)\n",
    "\n",
    "#Find the list of names missing in the input text\n",
    "missing = list(set(definednames)-set(names))\n",
    "print(\"Missing philosophers: \",missing)\n"
   ]
  },
  {
   "cell_type": "markdown",
   "metadata": {},
   "source": [
    "The task required that a minimum of 2 philosophers were included, so we generate a feedback message along these lines based on the analysis results. "
   ]
  },
  {
   "cell_type": "code",
   "execution_count": null,
   "metadata": {},
   "outputs": [],
   "source": [
    "def referenceFeedback(included,missing,threshold):\n",
    "    header = \"\"\"<h4>Feedback</h4>\n",
    "    <p class=\"feedback\"><b>Refering to authoritive sources - </b>It is important to refer to authoritative sources\n",
    "    in your writing.</p>\"\"\"\n",
    "\n",
    "    negFeedback =  \"\"\"<p class=\"feedback\">The assessment task requires that you refer to a minimum number of authoritative sources,\n",
    "    yet it appears that you have <b>not</b> met this requirement. Check the list of missing sources and consider \n",
    "    how you might modify your text.</p>\"\"\"\n",
    "\n",
    "    posFeedback = \"\"\"<p class=\"feedback\">It appears that you have met the task requirement to refer to a minimum number of sources.</p>\"\"\"\n",
    "    \n",
    "    footer_incl = \"\"\"<p><span class=\"feedback\">Sources included: </span>\n",
    "        <span class=\"included\">\"\"\"+ ', '.join(included) + \"</span></p>\"\n",
    "    footer_miss = \"\"\"<p><span class=\"feedback\">Sources not included: </span>\n",
    "        <span class=\"missing\">\"\"\"+ ', '.join(missing) + \"</span></p>\"\n",
    "\n",
    "    if(len(included)<threshold):\n",
    "        return header + negFeedback + footer_incl + footer_miss\n",
    "    else:\n",
    "        return header + posFeedback + footer_incl\n",
    "\n",
    "\n",
    "css = HTML(\"\"\"\n",
    "<style>\n",
    ".included {\n",
    "    color: green;\n",
    "}\n",
    ".missing {\n",
    "    color: red;\n",
    "}\n",
    "</style>\n",
    "\n",
    "\"\"\")\n",
    "\n",
    "feedback = HTML(referenceFeedback(included,missing,2))\n",
    "display(css,feedback)"
   ]
  },
  {
   "cell_type": "markdown",
   "metadata": {},
   "source": [
    "> ** DISCUSSION **\n",
    ">\n",
    ">  - Can we define list of author names automatically?\n",
    ">  - Can we extract them from the given assessment task/ criteria for scalablility?\n"
   ]
  },
  {
   "cell_type": "markdown",
   "metadata": {},
   "source": [
    "---\n",
    "\n",
    "### Hypothesis 2 - feedback on rhetorical moves\n",
    "\n",
    "In this section, we will generate writing feedback based on rhetorical moves in the text. We'll make use of `rhetorical moves` identified by TAP using the Athanor server and show identified moves for reflection as student feedback. \n",
    "\n",
    "#### Rhetorical Moves:\n",
    "\n",
    "Rhetorical move is “a discoursal or rhetorical unit that performs a coherent communicative function in a written or spoken discourse” (Swales, 2004). Rhetorical moves identified by Athanor and example sentences are shown below:\n",
    "\n",
    "<img src=\"rhetoricalmoves.png\" style=\"width: 60%;\"/>\n",
    "\n",
    "Athanor identifies these rhetorical moves using NLP rules of constituent patterns, instantiated by expressions in sentences, which are pairwise linked by syntactic dependencies. For example, sample linguistic patterns that constitute a contrast move is as follows:\n",
    "\n",
    "<img src=\"Contrastpatterns.png\" style=\"width: 60%;\"/>\n",
    "\n",
    "We hypothesize that good academic writing contains these moves to guide the reader with the flow of the writing."
   ]
  },
  {
   "cell_type": "code",
   "execution_count": null,
   "metadata": {
    "scrolled": true
   },
   "outputs": [],
   "source": [
    "# TAP can return the sentences from the text...\n",
    "#Function to identify rhetorical moves using TAP and return those sentences containing moves\n",
    "\n",
    "def findMoves(rawtext):\n",
    "    print('rawtext: ',rawtext)\n",
    "    #moveParams = \"\\{\\\\\\\"grammar\\\\\\\":\\\\\\\"analytic\\\\\\\"\\}\"\n",
    "    \n",
    "    movesQuery =  \"query RhetoricalMoves($input: String) { moves(text:$input,parameters:\\\"{\\\\\\\"grammar\\\\\\\":\\\\\\\"analytic\\\\\\\"}\\\") {analytics}}\"\n",
    "   \n",
    "    jsonData = getJsonFromTAP(movesQuery,rawtext,completeUrl)\n",
    "    moves = jsonData.get('data').get('moves').get('analytics')\n",
    "    print(\"moves: \",moves)\n",
    "    def moveSentsIdx(moves):\n",
    "        return [i+1 for i,x in enumerate(moves) if x != []]\n",
    "    moveSentences = moveSentsIdx(moves)\n",
    "    return(moveSentences, moves)\n",
    "\n",
    "\n",
    "#A function to wrap text in a span tag with 'moveformat' class for html display\n",
    "def moveTag(kv):\n",
    "    idx = kv[0]+1\n",
    "    text = kv[1]\n",
    "    (moveSentences, moves) = findMoves(text) #Get moves in the text\n",
    "    moveTag = ', '.join(moves[0])\n",
    "    if not moveSentences: #no rhetorical move returned/ empty list\n",
    "        if idx in paraSentences:\n",
    "            return '<p>'+text\n",
    "        else:\n",
    "            return text\n",
    "    else:\n",
    "        if idx in paraSentences:\n",
    "            return '<span class=\"moveformat\">'+ '<button class=\"tagbtn\">'+moveTag+'</button><p>'+text+'</p></span>'\n",
    "        else:\n",
    "            return '<span class=\"moveformat\">'+ '<button class=\"tagbtn\">'+moveTag+'</button>'+text+'</span>'\n",
    "\n",
    "        \n",
    "def markupMoveSentences(para):\n",
    "    #Get all sentences from the given text\n",
    "    sentencesQuery = \"query Sentences($input: String!){ annotations(text: $input) { analytics {idx, original, tokens { term }} }}\"\n",
    "    jsonData = getJsonFromTAP(sentencesQuery,para,completeUrl)\n",
    "    sentencesJson = jsonData.get('data').get('annotations').get('analytics')\n",
    "    def getSentence(json):\n",
    "        return (json.get('idx'),json.get('original'))\n",
    "    sentences = map(getSentence,sentencesJson) #get index and original sentences from text\n",
    "    pText =  ' '.join(map(moveTag,sentences))\n",
    "    return '<p>'+pText+'</p>'\n",
    "\n",
    "def paraSents(sents):\n",
    "    return [i+1 for i,x in enumerate(sents) if '<ptag>' in str(sents[i])]\n",
    "\n",
    "rawtextnew = rawtext.replace('\\n', ' <ptag>')\n",
    "rawtextnew = rawtextnew.replace('. ','. <eos>')\n",
    "sentences = rawtextnew.split('<eos>')\n",
    "paraSentences = paraSents(sentences)\n",
    "comment = \"\"\"\n",
    "<h4>Feedback</h4>\n",
    "<p class=\"feedback\"><b>Rhetorical moves - </b> When you write, you can guide the reader with the flow of your text using rhetorical moves. The rhetorical moves in your sentences identified using linguistic patterns are highlighted \n",
    "in yellow for your reflection. </p>\n",
    "\n",
    "<p><b>Your text:</b></p>\n",
    "\"\"\"\n",
    "docnew = [rawtext]\n",
    "html = HTML(comment + ''.join(map(markupMoveSentences,docnew)))\n",
    "\n",
    "css = HTML(\"\"\"\n",
    "<style>\n",
    ".feedback {\n",
    "    color: darkslateblue;\n",
    "}\n",
    ".tagbtn {\n",
    "    background-color: Gray;\n",
    "    border-radius: 12px;\n",
    "    font-size: 12px;\n",
    "    color: white;\n",
    "}\n",
    ".moveformat {\n",
    "    background-color: yellow;\n",
    "}\n",
    "</style>\n",
    "\n",
    "\"\"\")\n",
    "\n",
    "display(css,html)"
   ]
  },
  {
   "cell_type": "markdown",
   "metadata": {},
   "source": [
    "> ** DISCUSSION **\n",
    ">\n",
    ">  - Do you see ways to improve this feedback? \n",
    ">  - Does text analytics pick the right moves all the time?\n"
   ]
  },
  {
   "cell_type": "markdown",
   "metadata": {},
   "source": [
    "# AcaWriter API\n",
    "\n",
    "As well as querying TAP to get the raw text metrics, we can also use AcaWriter API which returns formatted results with rhetorical moves identified in texts. \n"
   ]
  },
  {
   "cell_type": "markdown",
   "metadata": {},
   "source": [
    "### Hypothesis 2b) - AcaWriter feedback on analytical rhetorical moves\n",
    "We can modify the feedback as required based on the analytical move tags returned by TAP. This is where we can re-design the UI for providing more user-friendly output. In the following section, we'll display the moves that are identified in the text.  "
   ]
  },
  {
   "cell_type": "code",
   "execution_count": null,
   "metadata": {},
   "outputs": [],
   "source": [
    "lawessay = \"Technology is an enabler in providing greater access to justice through its ability to connect people with legal needs to legal assistance, information, and advice. With the increasing popularity of internet-enabled hand held devices and laptop computers, there is a tendency to assume that even the socio-economically vulnerable in our society have access to technology and the skills to use online services with confidence. This is not necessarily the case. Examples of the application of technology to provide legal information and assistance include case studies, guides and virtual legal advice clinics. The 2012 Review does not address the role of courts in serving the legal needs of the community. The court system is not regarded as a part of the wider legal assistance services. This omission questions the role of the court in facilitating access to its services, including dispute resolution and trials. These services include e-access for remote communities, availability outside of business hours, interactive processes and virtual appearances. In conclusion, the essay identified uses of technology to expand the delivery of services, many of which are transferable to an online court.\"\n",
    "\n",
    "import requests\n",
    "\n",
    "url = 'http://acawriter-dev.utscic.edu.au/api/acaParser'\n",
    "\n",
    "headers = {\n",
    "    'Content-Type': 'application/json',\n",
    "    'Accept': 'application/json',\n",
    "}\n",
    "\n",
    "#txt2='Health & Lifestyle clinic: During my placement, I focused too much on asking the right questions about a patient¡¯s health rather than simply having a casual conversation with them. I realised that this made the patient feel awkward at times because there was less rapport between us. Therefore, in this placement I realised that it is important to ask patients normal questions such as how their day has been rather than just focusing on the medication/health aspect. Other REP: During a patient consultation I was observing, I had noticed that one of the patients was very rude to the optician. The optician had dealt with the situation in a firm but polite manner. She reminded the patient that as an optician she had a responsibility to provide patient care however this would be difficult if the patient would not cooperate with the optician. This made me realise that although it is important to provide good patient care, however when patients are being rude, it is vital to stand your ground. January community pharmacy placement: During this placement, I had realised the importance of building rapport with you patient. This is because I was working in a pharmacy in a small town where everyone do know each other. I found out that the pharmacist knew most of his patients. By building this close relationship, he was able to get on with all his patients and therefore provide the best patient care. In order to do this, building rapport was a key element.'\n",
    "\n",
    "adata1 = {\"txt\":lawessay,\"action\":\"fetch\",\"extra\":{\"feedbackOpt\":\"r_01\",\"grammar\":\"analytical\",\"feature\":6},\"type\":\"manual\"}\n",
    "\n",
    "ares=requests.post(url,headers=headers,json=adata1)\n",
    "\n",
    "afinset=ares.json()['final']\n",
    "\n",
    "emph='<span class=\\\"badge badge-pill badge-analytic-green\\\" style=\"background:darkorange;\">E</span>'\n",
    "contribution='<span class=\\\"badge badge-pill badge-analytic-green\\\" style=\"background:darkgreen;\">S</span>'\n",
    "novstat='<span class=\\\"badge badge-pill badge-analytic-green\\\" style=\"background:darkorange;\">N</span>'\n",
    "contrast='<span class=\\\"badge badge-pill badge-analytic\\\" style=\"background:darkorange;\">C</span>'\n",
    "tempstat='<span class=\\\"badge badge-pill badge-analytic-green\\\" style=\"background:darkorange;\">B</span>'\n",
    "Surprise='<span class=\\\"badge badge-pill badge-analytic\\\" style=\"background:darkorange;\">S</span>'\n",
    "nostat='<span class=\\\"badge badge-pill badge-analytic\\\" style=\"background:darkorange;\">Q</span>'\n",
    "grow='<span class=\\\"badge badge-pill badge-analytic\\\" style=\"background:darkorange;\">T</span>'\n",
    "attitude='<span class=\\\"badge badge-pill badge-analytic-green\\\" style=\"background:darkorange;\">P</span>'\n",
    "\n",
    "athtm='<h3>Rhetorical Moves</h4><br/><div style=\"margin-bottom:5px\">'\n",
    "athtm+=emph+'Emphasis to highlight key ideas</div><div style=\"margin-bottom:5px\">'\n",
    "athtm+=contribution+'Summarises or signals the authors goals</div><div style=\"margin-bottom:5px\">'\n",
    "athtm+=novstat+'Novel improvements in ideas</div><div style=\"margin-bottom:5px\">'\n",
    "athtm+=contrast+'Contrasting idea, tension or critical insight</div><div style=\"margin-bottom:5px\">'\n",
    "athtm+=tempstat+'Background information and previous work</div><div style=\"margin-bottom:5px\">'\n",
    "athtm+=Surprise+'Surprising or unexpected finding</div><div style=\"margin-bottom:5px\">'\n",
    "athtm+=nostat+'Question or gap in previous knowledge</div><div style=\"margin-bottom:5px\">'\n",
    "athtm+=grow+'Trend or tendency related to ideas</div><div style=\"margin-bottom:5px\">'\n",
    "athtm+=attitude+'Perspective or stance</div>'\n",
    "\n",
    "athtm+='<hr><h3>Analytical Report:</h3><br/>'\n",
    "\n",
    "alabel=['emph','contribution','novstat','contrast','tempstat','Surprise','nostat','grow','attitude']\n",
    "\n",
    "for afin in afinset:\n",
    "    atcls=''\n",
    "    for alb in alabel:\n",
    "        if alb in afin['css']:\n",
    "            athtm+=eval(alb)\n",
    "            atcls+=alb+' '\n",
    "\n",
    "    athtm+='<span class=\"'+atcls+'\">'+afin['str']+' </span>'\n",
    "\n",
    "css = HTML(\"\"\"\n",
    "<style>\n",
    ".contribution {\n",
    "    background:#00bfa5;\n",
    "}\n",
    ".contrast {\n",
    "    background:gold;\n",
    "}\n",
    ".badge-pill{\n",
    "    margin-right:3px;\n",
    "}\n",
    "</style>\n",
    "\"\"\")\n",
    "\n",
    "\n",
    "display(css,HTML(athtm))\n"
   ]
  },
  {
   "cell_type": "markdown",
   "metadata": {},
   "source": [
    "> ** DISCUSSION **\n",
    ">\n",
    ">  - Do you see ways to improve this feedback?"
   ]
  },
  {
   "cell_type": "markdown",
   "metadata": {},
   "source": [
    "### Hypothesis 2c) - more specific feedback on analytical rhetorical moves (Law)\n",
    "To give more specific feedback based on the rhetorical moves, we can align the feedback to the assessment. \n",
    "\n",
    "<img src=\"lawrubric.png\" style=\"width: 60%;\"/>\n",
    "\n",
    "Using this assessment criteria, we can provide feedback on how to improve the text. We can modify the feedback as required."
   ]
  },
  {
   "cell_type": "code",
   "execution_count": null,
   "metadata": {},
   "outputs": [],
   "source": [
    "ahtm=ares.json()['tabs']['2'][0]['alerts'][0][0]\n",
    "ahtm+=ares.json()['tabs']['2'][1]['customised'][0][0]\n",
    "ahtm+=ares.json()['tabs']['2'][1]['customised'][0][1]\n",
    "\n",
    "display(HTML(ahtm))\n"
   ]
  },
  {
   "cell_type": "markdown",
   "metadata": {},
   "source": [
    "### Hypothesis 2d) - more specific feedback on analytical rhetorical moves (Accounting)\n",
    "\n",
    "For a different learning context, we can tune the feedback matching their assessment criteria. In this context, students are required to write a business report which is different to the previous argumentative essay example. The figure below shows the rhetorical moves that are important in a business report, which students should incorporate.\n",
    "\n",
    "\n",
    "<img src=\"accrubric.png\" style=\"width: 60%;\"/>\n"
   ]
  },
  {
   "cell_type": "code",
   "execution_count": null,
   "metadata": {},
   "outputs": [],
   "source": [
    "acctext = \"This report defines customer engagement and sustainability as key aspects of performance for Nike’s marketing and manufacturing & design divisions respectively. Customer engagement allows Nike to develop its brand and encourage brand loyalty which are drivers of future profits. Sustainability is vital because sustainable businesses have better brand names and are more innovative, efficient and profitable.   Nike is a multinational designer, marketer and distributor of sports goods including footwear, apparel and accessories. Nike’s mission is to inspire every potential athlete in the world and “double our business while halving our environmental impact” (Nike 2015, p. 2). Nike also aims to generate a healthy return for its shareholders. Nike management has implemented several strategies to achieve their objectives. Nike structures its operations into geographic divisions such as North America, Asia Pacific and Latin America. Each division is responsible for the activities in that geographic area including design, marketing and distribution. Finally, a global brand division manages licensing and development expenses not specific to one area (Nike 2017).  \"\n",
    "\n",
    "adata2 = {\"txt\":acctext,\"action\":\"fetch\",\"extra\":{\"feedbackOpt\":\"r_01\",\"grammar\":\"analytical\",\"feature\":7},\"type\":\"manual\"}\n",
    "\n",
    "ares=requests.post(url,headers=headers,json=adata2)\n",
    "\n",
    "afinset=ares.json()['final']\n",
    "\n",
    "emph='<span class=\\\"badge badge-pill badge-analytic-green\\\" style=\"background:darkorange;\">E</span>'\n",
    "contribution='<span class=\\\"badge badge-pill badge-analytic-green\\\" style=\"background:darkgreen;\">S</span>'\n",
    "novstat='<span class=\\\"badge badge-pill badge-analytic-green\\\" style=\"background:darkorange;\">N</span>'\n",
    "contrast='<span class=\\\"badge badge-pill badge-analytic\\\" style=\"background:darkorange;\">C</span>'\n",
    "tempstat='<span class=\\\"badge badge-pill badge-analytic-green\\\" style=\"background:darkorange;\">B</span>'\n",
    "Surprise='<span class=\\\"badge badge-pill badge-analytic\\\" style=\"background:darkorange;\">S</span>'\n",
    "nostat='<span class=\\\"badge badge-pill badge-analytic\\\" style=\"background:darkorange;\">Q</span>'\n",
    "grow='<span class=\\\"badge badge-pill badge-analytic\\\" style=\"background:darkorange;\">T</span>'\n",
    "attitude='<span class=\\\"badge badge-pill badge-analytic-green\\\" style=\"background:darkorange;\">P</span>'\n",
    "\n",
    "athtm='<h3>Rhetorical Moves</h4><br/><div style=\"margin-bottom:5px\">'\n",
    "athtm+=emph+'Emphasis to highlight key ideas</div><div style=\"margin-bottom:5px\">'\n",
    "athtm+=contribution+'Summarises or signals the authors goals</div><div style=\"margin-bottom:5px\">'\n",
    "athtm+=novstat+'Novel improvements in ideas</div><div style=\"margin-bottom:5px\">'\n",
    "athtm+=contrast+'Contrasting idea, tension or critical insight</div><div style=\"margin-bottom:5px\">'\n",
    "athtm+=tempstat+'Background information and previous work</div><div style=\"margin-bottom:5px\">'\n",
    "athtm+=Surprise+'Surprising or unexpected finding</div><div style=\"margin-bottom:5px\">'\n",
    "athtm+=nostat+'Question or gap in previous knowledge</div><div style=\"margin-bottom:5px\">'\n",
    "athtm+=grow+'Trend or tendency related to ideas</div><div style=\"margin-bottom:5px\">'\n",
    "athtm+=attitude+'Perspective or stance</div>'\n",
    "\n",
    "athtm+='<hr><h3>Analytical Report:</h3><br/>'\n",
    "\n",
    "alabel=['emph','contribution','novstat','contrast','tempstat','Surprise','nostat','grow','attitude']\n",
    "\n",
    "for afin in afinset:\n",
    "    atcls=''\n",
    "    for alb in alabel:\n",
    "        if alb in afin['css']:\n",
    "            athtm+=eval(alb)\n",
    "            atcls+=alb+' '\n",
    "\n",
    "    athtm+='<span class=\"'+atcls+'\">'+afin['str']+' </span>'\n",
    "\n",
    "css = HTML(\"\"\"\n",
    "<style>\n",
    ".contribution {\n",
    "    background:#00bfa5;\n",
    "}\n",
    ".contrast {\n",
    "    background:gold;\n",
    "}\n",
    ".badge-pill{\n",
    "    margin-right:3px;\n",
    "}\n",
    "</style>\n",
    "\"\"\")\n",
    "\n",
    "\n",
    "display(css,HTML(athtm))"
   ]
  },
  {
   "cell_type": "code",
   "execution_count": null,
   "metadata": {},
   "outputs": [],
   "source": [
    "ares2=requests.post(url,headers=headers,json=adata2)\n",
    "\n",
    "ahtm2=ares2.json()['tabs']['2'][0]['alerts'][0][0]\n",
    "ahtm2+=ares2.json()['tabs']['2'][1]['customised'][0][0]\n",
    "ahtm2+=ares2.json()['tabs']['2'][2]['customised'][0][0]\n",
    "ahtm2+=ares2.json()['tabs']['2'][2]['customised'][0][1]\n",
    "\n",
    "display(HTML(ahtm2))\n",
    "\n"
   ]
  },
  {
   "cell_type": "markdown",
   "metadata": {},
   "source": [
    "> ** DISCUSSION **\n",
    ">  - What other ways/improvements can you think of in the feedback on the presence and structure of rhetorical moves?\n"
   ]
  },
  {
   "cell_type": "markdown",
   "metadata": {},
   "source": [
    "### Hypothesis 2e) - more specific feedback on analytical rhetorical moves (Research abstracts)\n",
    "\n",
    "While the previous examples were mapped to assessment criteria, we can also map feedback to good models of writing. In this example, we have mapped feedback to the Create a Research Space (CARS) model.\n",
    "\n",
    "<img src=\"hdrmodel.png\" style=\"width: 60%;\"/>"
   ]
  },
  {
   "cell_type": "code",
   "execution_count": null,
   "metadata": {},
   "outputs": [],
   "source": [
    "abstract = \"Data science is now impacting the education sector, with a growing number of commercial products and research prototypes providing “learning dashboards”, aiming to provide real time progress indicators. From a human-centred computing perspective, the end-user’s interpretation of these visualisations is a critical challenge to design for, with empirical evidence already showing that ‘usable’ visualisations are not necessarily effective from a learning perspective. It is now widely accepted that timely, actionable feedback is essential for effective learning which can be in the form of visualisations. This means an educator’s interpretation of visualised data is essentially the construction of a narrative about student progress, we draw on the growing body of work on Data Storytelling (DS) as the inspiration for a set of enhancements that could be applied to data visualisations to improve their communicative power. We present a pilot study that explores the effectiveness of these DS elements based on educators’ responses to paper prototypes.\" \n",
    "\n",
    "adata2 = {\"txt\":abstract,\"action\":\"fetch\",\"extra\":{\"feedbackOpt\":\"r_01\",\"grammar\":\"analytical\",\"feature\":5},\"type\":\"manual\"}\n",
    "\n",
    "ares2=requests.post(url,headers=headers,json=adata2)\n",
    "\n",
    "ahtm2=ares2.json()['tabs']['2'][0]['alerts'][0][0]\n",
    "ahtm2+=ares2.json()['tabs']['2'][1]['customised'][0][0]\n",
    "\n",
    "\n",
    "display(HTML(ahtm2))\n"
   ]
  },
  {
   "cell_type": "markdown",
   "metadata": {},
   "source": [
    "> ** DISCUSSION **\n",
    "\n",
    ">  - What other genre examples and features can you think of that could be mapped to feedback?\n"
   ]
  },
  {
   "cell_type": "markdown",
   "metadata": {},
   "source": [
    "# Activity mapping rhetorical moves to feedback\n",
    "\n",
    "To get you thinking on mapping such text features to feedback further, here's a google doc where you can add possible ways you  imagine on giving automated writing feedback to students. \n",
    "\n",
    "So, let's try a couple of these out.\n",
    "* Using the research abstracts example above, try swapping the Move 2 and Move 1 sentences. See how we get different kinds of feedback depending on if the rule is met or not?\n",
    "* Using the accounting example, try and apply the background feedback to see what feedback you receive when the background rules are applied\n",
    "\n",
    "> ** DISCUSSION **\n",
    "\n",
    "> - How can you use 'positive' and 'negative' rules to provide useful feedback to students within specific contexts?  Have a go at using the table below to think about how you create such rules in any of your own contexts (you might use a rubric to help do this) \n",
    "https://docs.google.com/document/d/1SP2jvrO1Kr_qu0nPs2eFjsUSkD10vY-reshgEXvn8AI/edit\n",
    "\n"
   ]
  },
  {
   "cell_type": "markdown",
   "metadata": {},
   "source": [
    "### Demonstrating modification of feedback messages as needed\n",
    "We can modify the feedback as required based on the analytical rhetorical move tags returned by TAP.  "
   ]
  },
  {
   "cell_type": "code",
   "execution_count": null,
   "metadata": {
    "scrolled": true
   },
   "outputs": [],
   "source": [
    "atap=ares.json()['tap']\n",
    "\n",
    "atags=''\n",
    "for atag in atap:\n",
    "    atags+=atag['tags']+','\n",
    "    \n",
    "success='<div class=\"alert alert-info\"><i class=\"fa fa fa-thumbs-up text-success\"></i><span class=\\\"text-success\\\"> '\n",
    "danger='<div class=\"alert alert-info\"><i class=\"fa fa-exclamation-circle\"></i><span class=\\\"text-danger\\\">'\n",
    "    \n",
    "ahtmT,ahtmF='<h4>Positive:</h4>','<h4>Negative:</h4>'\n",
    "if 'emph' in atags:\n",
    "    ahtmT+=success+'Good job! AcaWriter spotted these key moves: emphasize</span></div>'\n",
    "else:\n",
    "    ahtmF+=danger+'If there’s a key idea you’d like to emphasize in your essay, try including linguistic cues to make this move clearer in your writing. Examples: \"It is important to note that ....\" \"It makes a proper understanding important...\"</span></div>'\n",
    "    \n",
    "if 'contrast' in atags:\n",
    "    ahtmT+=success+'It appears that you’ve reported contrast.</span></div>'\n",
    "else:\n",
    "    ahtmF+=danger+'It appears that you haven\\'t commented on contrast.</span></div>'\n",
    "    \n",
    "if 'contribution' in atags:\n",
    "    ahtmT+=success+'It appears that you have expanded the detail on contribution.</span></div>'\n",
    "else:\n",
    "    ahtmF+=danger+'It appears that you haven\\'t given the contribution in your text.</span></div>'\n",
    "\n",
    "if 'background' in atags:\n",
    "    ahtmT+=success+'t appears that you have expanded the detail on Background.</span></div>'\n",
    "else:\n",
    "    ahtmF+=danger+'It looks like you are missing a background move in your text.</span></div>'\n",
    "\n",
    "css = HTML(\"\"\"\n",
    "<style>\n",
    ".fa-thumbs-up {\n",
    "    color:#3c763d;\n",
    "    margin-right:5px;\n",
    "}\n",
    ".fa-exclamation-circle {\n",
    "    color:#31708f;\n",
    "    margin-right:5px;\n",
    "}\n",
    "</style>\n",
    "\"\"\")\n",
    "    \n",
    "display(css,HTML(ahtmT))\n",
    "display(css,HTML(ahtmF))"
   ]
  },
  {
   "cell_type": "markdown",
   "metadata": {},
   "source": [
    "### Hypothesis 3) -  Reflective rhetorical moves highlighted by AcaWriter aid reflection\n",
    "\n",
    "Introduction to rhetorical moves in personal reflection:\n",
    "Personal reflection at the university level is intended to provide you with the opportunity to consider your experiences, feelings and events around a particular project. It is often directed at professional practice. It may give you insights into how you might do things differently in the future, or successes on which to build.\n",
    "This is a reflection model that synthesises theories of reflection and narrative together with discipline approaches to assessing reflection (Gibson et al.,2017)\n",
    "<img src=\"ReflectionModel.png\" style=\"width: 80%;\"/>\n",
    "\n",
    "The three key moves are:\n",
    "- I: Initial thoughts and feelings about a significant experience.\n",
    "- C: The challenge of new surprising or unfamiliar ideas, problems or learning experiences\n",
    "- H: How new knowledge can lead to a change\n",
    "\n",
    "Four additional features may be signalled by font, in combination with the above:\n",
    "- refers to oneself\n",
    "- expresses emotions and feelings\n",
    "- expresses self-critique\n",
    "- expresses beliefs, learning, or knowledge\n",
    "\n",
    "We can modify the feedback as required based on the reflective rhetorical move tags returned by TAP. "
   ]
  },
  {
   "cell_type": "code",
   "execution_count": null,
   "metadata": {},
   "outputs": [],
   "source": [
    "reflectiontext=\"Throughout block 1 hospital placement, I came across a vast range of circumstances that I feel are worth reflecting on in this final global reflection. These circumstances ultimately allowed me to gain insight into the importance and role of Pharmacist’s in the hospital setting. Before reflecting upon some of these circumstances, I feel that there is a level of importance to mention that Pharmacist’s at Royal North Shore Hospital did not have as significant of an influence, role and part in the overall health outcome of a patient. In saying this, this does not mean that they were not effective in practice, but simply not to the extent to which rural Pharmacist’s were. I will describe two circumstances I came across below and then will perform a holistic reflection on both. A few days into my rural hospital placement at Armidale Hospital, during medical ward rounds, we came across an inpatient that was diagnosed with heart conditions to which he was on a number of medications. My preceptor, XXXXXX conducted an interview with this patient. Through a highly effective interview structure, he was able to identify a secondary cause to the patient’s illness. The patient had opened up and mentioned that his wife who has Alzheimer’s would have a heavy toll on him at times. My preceptor’s ability to identify this required a significant amount of reading between the lines. His next actions were then to talk to the doctor’s about introducing a medication for his depression, which could ultimately reduce the burden of his heart on his health. Having come across both the circumstances outlined above, I gained a first hand perspective at valuing the importance of hospital Pharmacist’s. I acknowledged and recognised that being a hospital Pharmacist required a variety of competencies.\"\n",
    "data = {\"txt\":reflectiontext,\"action\":\"fetch\",\"extra\":{\"feedbackOpt\":\"r_01\",\"grammar\":\"reflective\",\"feature\":8},\"type\":\"manual\"}\n",
    "\n",
    "res=requests.post(url,headers=headers,json=data)\n",
    "\n",
    "finset=res.json()['final']\n",
    "\n",
    "label=['context','challenge','change','link2me']\n",
    "\n",
    "\n",
    "mhtm='''<h3>Rhetorical Moves</h4><br/>\n",
    "<div style=\"margin-bottom:5px;\"><span class=\"context\"></span>Initial thoughts and feelings about a significant experience.</div>\n",
    "<div style=\"margin-bottom:5px;\"><span class=\"challenge\"></span>The challenge of new surprising or unfamiliar ideas, problems or learning experiences.</div>\n",
    "<div style=\"margin-bottom:5px;\"><span class=\"change\"></span>How new knowledge can lead to a change.</div>\n",
    "<div style=\"font-weight:bold;margin-bottom:5px;\">Deeper reflection, personally applied.</div>\n",
    "<div style=\"margin-bottom:5px;\"><span>⚡</span>Sentence too long, might disengage the reader. Try breaking it into smaller sentences.</div>\n",
    "<div style=\"margin-bottom:5px;text-decoration:underline\">Expressions indicating belief, learning, or knowledge.</div>\n",
    "<div style=\"margin-bottom:5px;font-style:italic\">Expressions indicating self critique.</div>\n",
    "<div style=\"margin-bottom:5px;\"><span style=\"border-bottom:1px dashed #ff0000;\">Words associated with strong feelings.</span></div>\n",
    "'''\n",
    "\n",
    "mhtm+='<hr><h3>Reflective Report:</h3><br/>'\n",
    "\n",
    "\n",
    "for fin in finset:\n",
    "    tarlb,cls = ' '.join(fin['css']),''\n",
    "    for l in label:\n",
    "        if l in tarlb:\n",
    "            if l=='link2me':\n",
    "                cls+=' class=\"link2me\"'\n",
    "            elif l=='link2me':\n",
    "                cls+=' class=\"link2me\"'\n",
    "            else:\n",
    "                mhtm+='<span class=\"'+l+'\"></span>'\n",
    "            \n",
    "    mhtm+='<span'+cls+'>'+fin['str']+' </span>'\n",
    "    \n",
    "\n",
    "css = HTML(\"\"\"\n",
    "<style>\n",
    ".context {\n",
    "    border-radius:5px;\n",
    "    background:#0000FF;\n",
    "    display:inline-block;\n",
    "    width:14px;\n",
    "    height:14px;\n",
    "    margin:0px 4px 0px 2px;\n",
    "}\n",
    ".challenge {\n",
    "    border-radius:14px;\n",
    "    background:#C000C0;\n",
    "    display:inline-block;\n",
    "    width:14px;\n",
    "    height:14px;\n",
    "    margin:0px 4px 0px 2px;\n",
    "}\n",
    ".change{\n",
    "    width: 0;\n",
    "    height: 0;\n",
    "    border-top: 7px solid transparent;\n",
    "    border-left: 14px solid #008300;\n",
    "    border-bottom: 7px solid transparent;\n",
    "    display:inline-block;\n",
    "    margin:0px 4px 0px 2px;\n",
    "}\n",
    ".link2me {\n",
    "    font-weight:bold;\n",
    "}\n",
    "</style>\n",
    "\"\"\")\n",
    "            \n",
    "display(css,HTML(mhtm))"
   ]
  },
  {
   "cell_type": "markdown",
   "metadata": {},
   "source": [
    "### Hypothesis 3a) - AcaWriter feedback on reflective rhetorical moves"
   ]
  },
  {
   "cell_type": "code",
   "execution_count": null,
   "metadata": {},
   "outputs": [],
   "source": [
    "tabs=res.json()['tabs']['2']\n",
    "\n",
    "htmS = '<h4>Positive:</h4><p>'+ tabs[0]['customised'][0][0] + '</p>'\n",
    "htmD = '<h4>Negative:</h4>'\n",
    "for tab in tabs[1]['customised'][0]:\n",
    "    if 'text-success' in tab:\n",
    "        htmS += '<p>'+tab+'</p>'\n",
    "    else:\n",
    "        htmD += '<p>'+tab+'</p>'\n",
    "    \n",
    "display(HTML(htmS))\n",
    "display(HTML(htmD))"
   ]
  },
  {
   "cell_type": "markdown",
   "metadata": {},
   "source": [
    "### Hypothesis 3b) - more specific feedback on reflective rhetorical moves\n",
    "We can modify the feedback as required based on the reflective rhetorical move tags returned by TAP."
   ]
  },
  {
   "cell_type": "code",
   "execution_count": null,
   "metadata": {
    "scrolled": true
   },
   "outputs": [],
   "source": [
    "tap=res.json()['tap']\n",
    "\n",
    "tags=''\n",
    "for tag in tap:\n",
    "    tags+=tag['tags']+','\n",
    "#print(tags)\n",
    "\n",
    "htmT,htmF='<h4>Positive:</h4>','<h4>Negative:</h4>'\n",
    "if 'context' in tags:\n",
    "    htmT+='<p><span class=\\\"text-success\\\">It appears that you have expanded the detail on context.</span></p>'\n",
    "else:\n",
    "    htmF+='<p><span class=\\\"text-danger\\\">It appears that you haven\\'t commented on context.</span></p>'\n",
    "    \n",
    "if 'challenge' in tags:\n",
    "    htmT+='<p><span class=\\\"text-success\\\">It appears that you’ve reported on something you found challenging.</span></p>'\n",
    "else:\n",
    "    htmF+='<p><span class=\\\"text-danger\\\">It appears that you haven\\'t commented on challenge.</span></p>'\n",
    "    \n",
    "if 'change' in tags:\n",
    "    htmT+='<p><span class=\\\"text-success\\\">It appears that you have expanded the detail on change.</span></p>'\n",
    "else:\n",
    "    htmF+='<p><span class=\\\"text-danger\\\">It appears that you haven\\'t think about changes in perspectives/strategies/tools/ideas/behaviour and/or approach.</span></p>'\n",
    "\n",
    "display(HTML(htmT))\n",
    "display(HTML(htmF))"
   ]
  },
  {
   "cell_type": "markdown",
   "metadata": {},
   "source": [
    "## Where next?\n",
    "\n",
    "To install your own Jupyter notebook: http://jupyter.org/install\n",
    "\n",
    "TAP: https://github.com/heta-io/tap\n",
    "\n",
    "AcaWriter: https://github.com/uts-cic/acawriter\n",
    "\n",
    "A repository with YOUR notebooks?\n",
    "\n",
    "Find more about the Connected Intelligence Centre (CIC)'s work at: https://utscic.edu.au/ \n"
   ]
  },
  {
   "cell_type": "code",
   "execution_count": null,
   "metadata": {},
   "outputs": [],
   "source": []
  },
  {
   "cell_type": "code",
   "execution_count": null,
   "metadata": {},
   "outputs": [],
   "source": []
  }
 ],
 "metadata": {
  "kernelspec": {
   "display_name": "Python 3",
   "language": "python",
   "name": "python3"
  },
  "language_info": {
   "codemirror_mode": {
    "name": "ipython",
    "version": 3
   },
   "file_extension": ".py",
   "mimetype": "text/x-python",
   "name": "python",
   "nbconvert_exporter": "python",
   "pygments_lexer": "ipython3",
   "version": "3.7.0"
  },
  "widgets": {
   "state": {
    "45993015ea854d58907dd1ded7b34222": {
     "views": [
      {
       "cell_index": 15
      }
     ]
    }
   },
   "version": "1.2.0"
  }
 },
 "nbformat": 4,
 "nbformat_minor": 1
}
